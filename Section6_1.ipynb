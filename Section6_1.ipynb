{
 "cells": [
  {
   "cell_type": "markdown",
   "metadata": {},
   "source": [
    "# PART1 基礎分析をしよう"
   ]
  },
  {
   "cell_type": "markdown",
   "metadata": {},
   "source": [
    "## おまじない"
   ]
  },
  {
   "cell_type": "code",
   "execution_count": 1,
   "metadata": {},
   "outputs": [
    {
     "name": "stderr",
     "output_type": "stream",
     "text": [
      "C:\\Users\\mikam\\Anaconda3\\lib\\importlib\\_bootstrap.py:219: RuntimeWarning: numpy.ufunc size changed, may indicate binary incompatibility. Expected 192 from C header, got 216 from PyObject\n",
      "  return f(*args, **kwds)\n"
     ]
    }
   ],
   "source": [
    "import pandas as pd\n",
    "import numpy as np\n",
    "from matplotlib import pyplot as plt\n",
    "%matplotlib inline"
   ]
  },
  {
   "cell_type": "markdown",
   "metadata": {},
   "source": [
    "## データの読み込み\n",
    "- train.csvとtest.csvとsubmit_sample.csvの３つのファイルを読み込みましょう\n",
    "- それぞれを読み込んだものは変数はtrain, test, sampleに代入しましょう"
   ]
  },
  {
   "cell_type": "code",
   "execution_count": 3,
   "metadata": {},
   "outputs": [],
   "source": [
    "train = pd.read_csv('train.csv')\n",
    "test = pd.read_csv('test.csv')\n",
    "sample = pd.read_csv('submit_sample.csv',header = None)"
   ]
  },
  {
   "cell_type": "markdown",
   "metadata": {},
   "source": [
    "## trainの先頭行を見てみましょう\n",
    "- 各カラムの説明はDeepAnalyticsの[データダウンロードページ](https://deepanalytics.jp/compe/1/download)に記載されています"
   ]
  },
  {
   "cell_type": "code",
   "execution_count": 4,
   "metadata": {},
   "outputs": [
    {
     "data": {
      "text/html": [
       "<div>\n",
       "<style scoped>\n",
       "    .dataframe tbody tr th:only-of-type {\n",
       "        vertical-align: middle;\n",
       "    }\n",
       "\n",
       "    .dataframe tbody tr th {\n",
       "        vertical-align: top;\n",
       "    }\n",
       "\n",
       "    .dataframe thead th {\n",
       "        text-align: right;\n",
       "    }\n",
       "</style>\n",
       "<table border=\"1\" class=\"dataframe\">\n",
       "  <thead>\n",
       "    <tr style=\"text-align: right;\">\n",
       "      <th></th>\n",
       "      <th>id</th>\n",
       "      <th>age</th>\n",
       "      <th>job</th>\n",
       "      <th>marital</th>\n",
       "      <th>education</th>\n",
       "      <th>default</th>\n",
       "      <th>balance</th>\n",
       "      <th>housing</th>\n",
       "      <th>loan</th>\n",
       "      <th>contact</th>\n",
       "      <th>day</th>\n",
       "      <th>month</th>\n",
       "      <th>duration</th>\n",
       "      <th>campaign</th>\n",
       "      <th>pdays</th>\n",
       "      <th>previous</th>\n",
       "      <th>poutcome</th>\n",
       "      <th>y</th>\n",
       "    </tr>\n",
       "  </thead>\n",
       "  <tbody>\n",
       "    <tr>\n",
       "      <td>0</td>\n",
       "      <td>1</td>\n",
       "      <td>39</td>\n",
       "      <td>blue-collar</td>\n",
       "      <td>married</td>\n",
       "      <td>secondary</td>\n",
       "      <td>no</td>\n",
       "      <td>1756</td>\n",
       "      <td>yes</td>\n",
       "      <td>no</td>\n",
       "      <td>cellular</td>\n",
       "      <td>3</td>\n",
       "      <td>apr</td>\n",
       "      <td>939</td>\n",
       "      <td>1</td>\n",
       "      <td>-1</td>\n",
       "      <td>0</td>\n",
       "      <td>unknown</td>\n",
       "      <td>1</td>\n",
       "    </tr>\n",
       "    <tr>\n",
       "      <td>1</td>\n",
       "      <td>2</td>\n",
       "      <td>51</td>\n",
       "      <td>entrepreneur</td>\n",
       "      <td>married</td>\n",
       "      <td>primary</td>\n",
       "      <td>no</td>\n",
       "      <td>1443</td>\n",
       "      <td>no</td>\n",
       "      <td>no</td>\n",
       "      <td>cellular</td>\n",
       "      <td>18</td>\n",
       "      <td>feb</td>\n",
       "      <td>172</td>\n",
       "      <td>10</td>\n",
       "      <td>-1</td>\n",
       "      <td>0</td>\n",
       "      <td>unknown</td>\n",
       "      <td>1</td>\n",
       "    </tr>\n",
       "    <tr>\n",
       "      <td>2</td>\n",
       "      <td>3</td>\n",
       "      <td>36</td>\n",
       "      <td>management</td>\n",
       "      <td>single</td>\n",
       "      <td>tertiary</td>\n",
       "      <td>no</td>\n",
       "      <td>436</td>\n",
       "      <td>no</td>\n",
       "      <td>no</td>\n",
       "      <td>cellular</td>\n",
       "      <td>13</td>\n",
       "      <td>apr</td>\n",
       "      <td>567</td>\n",
       "      <td>1</td>\n",
       "      <td>595</td>\n",
       "      <td>2</td>\n",
       "      <td>failure</td>\n",
       "      <td>1</td>\n",
       "    </tr>\n",
       "    <tr>\n",
       "      <td>3</td>\n",
       "      <td>4</td>\n",
       "      <td>63</td>\n",
       "      <td>retired</td>\n",
       "      <td>married</td>\n",
       "      <td>secondary</td>\n",
       "      <td>no</td>\n",
       "      <td>474</td>\n",
       "      <td>no</td>\n",
       "      <td>no</td>\n",
       "      <td>cellular</td>\n",
       "      <td>25</td>\n",
       "      <td>jan</td>\n",
       "      <td>423</td>\n",
       "      <td>1</td>\n",
       "      <td>-1</td>\n",
       "      <td>0</td>\n",
       "      <td>unknown</td>\n",
       "      <td>1</td>\n",
       "    </tr>\n",
       "    <tr>\n",
       "      <td>4</td>\n",
       "      <td>5</td>\n",
       "      <td>31</td>\n",
       "      <td>management</td>\n",
       "      <td>single</td>\n",
       "      <td>tertiary</td>\n",
       "      <td>no</td>\n",
       "      <td>354</td>\n",
       "      <td>no</td>\n",
       "      <td>no</td>\n",
       "      <td>cellular</td>\n",
       "      <td>30</td>\n",
       "      <td>apr</td>\n",
       "      <td>502</td>\n",
       "      <td>1</td>\n",
       "      <td>9</td>\n",
       "      <td>2</td>\n",
       "      <td>success</td>\n",
       "      <td>1</td>\n",
       "    </tr>\n",
       "  </tbody>\n",
       "</table>\n",
       "</div>"
      ],
      "text/plain": [
       "   id  age           job  marital  education default  balance housing loan  \\\n",
       "0   1   39   blue-collar  married  secondary      no     1756     yes   no   \n",
       "1   2   51  entrepreneur  married    primary      no     1443      no   no   \n",
       "2   3   36    management   single   tertiary      no      436      no   no   \n",
       "3   4   63       retired  married  secondary      no      474      no   no   \n",
       "4   5   31    management   single   tertiary      no      354      no   no   \n",
       "\n",
       "    contact  day month  duration  campaign  pdays  previous poutcome  y  \n",
       "0  cellular    3   apr       939         1     -1         0  unknown  1  \n",
       "1  cellular   18   feb       172        10     -1         0  unknown  1  \n",
       "2  cellular   13   apr       567         1    595         2  failure  1  \n",
       "3  cellular   25   jan       423         1     -1         0  unknown  1  \n",
       "4  cellular   30   apr       502         1      9         2  success  1  "
      ]
     },
     "execution_count": 4,
     "metadata": {},
     "output_type": "execute_result"
    }
   ],
   "source": [
    "train.head()"
   ]
  },
  {
   "cell_type": "markdown",
   "metadata": {},
   "source": [
    "## trainの行数と列数を見てみましょう"
   ]
  },
  {
   "cell_type": "code",
   "execution_count": 6,
   "metadata": {},
   "outputs": [
    {
     "data": {
      "text/plain": [
       "(27128, 18)"
      ]
     },
     "execution_count": 6,
     "metadata": {},
     "output_type": "execute_result"
    }
   ],
   "source": [
    "train.shape"
   ]
  },
  {
   "cell_type": "markdown",
   "metadata": {},
   "source": [
    "## trainの基礎統計量を見てみましょう"
   ]
  },
  {
   "cell_type": "code",
   "execution_count": 7,
   "metadata": {},
   "outputs": [
    {
     "data": {
      "text/html": [
       "<div>\n",
       "<style scoped>\n",
       "    .dataframe tbody tr th:only-of-type {\n",
       "        vertical-align: middle;\n",
       "    }\n",
       "\n",
       "    .dataframe tbody tr th {\n",
       "        vertical-align: top;\n",
       "    }\n",
       "\n",
       "    .dataframe thead th {\n",
       "        text-align: right;\n",
       "    }\n",
       "</style>\n",
       "<table border=\"1\" class=\"dataframe\">\n",
       "  <thead>\n",
       "    <tr style=\"text-align: right;\">\n",
       "      <th></th>\n",
       "      <th>id</th>\n",
       "      <th>age</th>\n",
       "      <th>balance</th>\n",
       "      <th>day</th>\n",
       "      <th>duration</th>\n",
       "      <th>campaign</th>\n",
       "      <th>pdays</th>\n",
       "      <th>previous</th>\n",
       "      <th>y</th>\n",
       "    </tr>\n",
       "  </thead>\n",
       "  <tbody>\n",
       "    <tr>\n",
       "      <td>count</td>\n",
       "      <td>27128.000000</td>\n",
       "      <td>27128.000000</td>\n",
       "      <td>27128.000000</td>\n",
       "      <td>27128.000000</td>\n",
       "      <td>27128.000000</td>\n",
       "      <td>27128.000000</td>\n",
       "      <td>27128.000000</td>\n",
       "      <td>27128.000000</td>\n",
       "      <td>27128.000000</td>\n",
       "    </tr>\n",
       "    <tr>\n",
       "      <td>mean</td>\n",
       "      <td>13564.500000</td>\n",
       "      <td>40.951010</td>\n",
       "      <td>1355.800870</td>\n",
       "      <td>15.806215</td>\n",
       "      <td>260.711295</td>\n",
       "      <td>2.751769</td>\n",
       "      <td>40.528052</td>\n",
       "      <td>0.579733</td>\n",
       "      <td>0.117001</td>\n",
       "    </tr>\n",
       "    <tr>\n",
       "      <td>std</td>\n",
       "      <td>7831.323388</td>\n",
       "      <td>10.608542</td>\n",
       "      <td>3003.305272</td>\n",
       "      <td>8.337904</td>\n",
       "      <td>260.091727</td>\n",
       "      <td>3.126594</td>\n",
       "      <td>100.382462</td>\n",
       "      <td>2.503653</td>\n",
       "      <td>0.321427</td>\n",
       "    </tr>\n",
       "    <tr>\n",
       "      <td>min</td>\n",
       "      <td>1.000000</td>\n",
       "      <td>18.000000</td>\n",
       "      <td>-6847.000000</td>\n",
       "      <td>1.000000</td>\n",
       "      <td>0.000000</td>\n",
       "      <td>1.000000</td>\n",
       "      <td>-1.000000</td>\n",
       "      <td>0.000000</td>\n",
       "      <td>0.000000</td>\n",
       "    </tr>\n",
       "    <tr>\n",
       "      <td>25%</td>\n",
       "      <td>6782.750000</td>\n",
       "      <td>33.000000</td>\n",
       "      <td>72.000000</td>\n",
       "      <td>8.000000</td>\n",
       "      <td>104.000000</td>\n",
       "      <td>1.000000</td>\n",
       "      <td>-1.000000</td>\n",
       "      <td>0.000000</td>\n",
       "      <td>0.000000</td>\n",
       "    </tr>\n",
       "    <tr>\n",
       "      <td>50%</td>\n",
       "      <td>13564.500000</td>\n",
       "      <td>39.000000</td>\n",
       "      <td>449.000000</td>\n",
       "      <td>16.000000</td>\n",
       "      <td>182.000000</td>\n",
       "      <td>2.000000</td>\n",
       "      <td>-1.000000</td>\n",
       "      <td>0.000000</td>\n",
       "      <td>0.000000</td>\n",
       "    </tr>\n",
       "    <tr>\n",
       "      <td>75%</td>\n",
       "      <td>20346.250000</td>\n",
       "      <td>48.000000</td>\n",
       "      <td>1428.000000</td>\n",
       "      <td>21.000000</td>\n",
       "      <td>323.000000</td>\n",
       "      <td>3.000000</td>\n",
       "      <td>-1.000000</td>\n",
       "      <td>0.000000</td>\n",
       "      <td>0.000000</td>\n",
       "    </tr>\n",
       "    <tr>\n",
       "      <td>max</td>\n",
       "      <td>27128.000000</td>\n",
       "      <td>95.000000</td>\n",
       "      <td>102127.000000</td>\n",
       "      <td>31.000000</td>\n",
       "      <td>4918.000000</td>\n",
       "      <td>63.000000</td>\n",
       "      <td>871.000000</td>\n",
       "      <td>275.000000</td>\n",
       "      <td>1.000000</td>\n",
       "    </tr>\n",
       "  </tbody>\n",
       "</table>\n",
       "</div>"
      ],
      "text/plain": [
       "                 id           age        balance           day      duration  \\\n",
       "count  27128.000000  27128.000000   27128.000000  27128.000000  27128.000000   \n",
       "mean   13564.500000     40.951010    1355.800870     15.806215    260.711295   \n",
       "std     7831.323388     10.608542    3003.305272      8.337904    260.091727   \n",
       "min        1.000000     18.000000   -6847.000000      1.000000      0.000000   \n",
       "25%     6782.750000     33.000000      72.000000      8.000000    104.000000   \n",
       "50%    13564.500000     39.000000     449.000000     16.000000    182.000000   \n",
       "75%    20346.250000     48.000000    1428.000000     21.000000    323.000000   \n",
       "max    27128.000000     95.000000  102127.000000     31.000000   4918.000000   \n",
       "\n",
       "           campaign         pdays      previous             y  \n",
       "count  27128.000000  27128.000000  27128.000000  27128.000000  \n",
       "mean       2.751769     40.528052      0.579733      0.117001  \n",
       "std        3.126594    100.382462      2.503653      0.321427  \n",
       "min        1.000000     -1.000000      0.000000      0.000000  \n",
       "25%        1.000000     -1.000000      0.000000      0.000000  \n",
       "50%        2.000000     -1.000000      0.000000      0.000000  \n",
       "75%        3.000000     -1.000000      0.000000      0.000000  \n",
       "max       63.000000    871.000000    275.000000      1.000000  "
      ]
     },
     "execution_count": 7,
     "metadata": {},
     "output_type": "execute_result"
    }
   ],
   "source": [
    "train.describe()"
   ]
  },
  {
   "cell_type": "markdown",
   "metadata": {},
   "source": [
    "## testの基礎統計量も見てみましょう"
   ]
  },
  {
   "cell_type": "code",
   "execution_count": 8,
   "metadata": {},
   "outputs": [
    {
     "data": {
      "text/html": [
       "<div>\n",
       "<style scoped>\n",
       "    .dataframe tbody tr th:only-of-type {\n",
       "        vertical-align: middle;\n",
       "    }\n",
       "\n",
       "    .dataframe tbody tr th {\n",
       "        vertical-align: top;\n",
       "    }\n",
       "\n",
       "    .dataframe thead th {\n",
       "        text-align: right;\n",
       "    }\n",
       "</style>\n",
       "<table border=\"1\" class=\"dataframe\">\n",
       "  <thead>\n",
       "    <tr style=\"text-align: right;\">\n",
       "      <th></th>\n",
       "      <th>id</th>\n",
       "      <th>age</th>\n",
       "      <th>balance</th>\n",
       "      <th>day</th>\n",
       "      <th>duration</th>\n",
       "      <th>campaign</th>\n",
       "      <th>pdays</th>\n",
       "      <th>previous</th>\n",
       "    </tr>\n",
       "  </thead>\n",
       "  <tbody>\n",
       "    <tr>\n",
       "      <td>count</td>\n",
       "      <td>18083.000000</td>\n",
       "      <td>18083.000000</td>\n",
       "      <td>18083.000000</td>\n",
       "      <td>18083.000000</td>\n",
       "      <td>18083.000000</td>\n",
       "      <td>18083.000000</td>\n",
       "      <td>18083.000000</td>\n",
       "      <td>18083.000000</td>\n",
       "    </tr>\n",
       "    <tr>\n",
       "      <td>mean</td>\n",
       "      <td>9042.000000</td>\n",
       "      <td>40.914008</td>\n",
       "      <td>1371.980092</td>\n",
       "      <td>15.806725</td>\n",
       "      <td>254.340264</td>\n",
       "      <td>2.781950</td>\n",
       "      <td>39.702428</td>\n",
       "      <td>0.581209</td>\n",
       "    </tr>\n",
       "    <tr>\n",
       "      <td>std</td>\n",
       "      <td>5220.256794</td>\n",
       "      <td>10.634331</td>\n",
       "      <td>3105.985293</td>\n",
       "      <td>8.299509</td>\n",
       "      <td>253.591981</td>\n",
       "      <td>3.054651</td>\n",
       "      <td>99.747634</td>\n",
       "      <td>1.965265</td>\n",
       "    </tr>\n",
       "    <tr>\n",
       "      <td>min</td>\n",
       "      <td>1.000000</td>\n",
       "      <td>18.000000</td>\n",
       "      <td>-8019.000000</td>\n",
       "      <td>1.000000</td>\n",
       "      <td>0.000000</td>\n",
       "      <td>1.000000</td>\n",
       "      <td>-1.000000</td>\n",
       "      <td>0.000000</td>\n",
       "    </tr>\n",
       "    <tr>\n",
       "      <td>25%</td>\n",
       "      <td>4521.500000</td>\n",
       "      <td>33.000000</td>\n",
       "      <td>72.000000</td>\n",
       "      <td>8.000000</td>\n",
       "      <td>102.000000</td>\n",
       "      <td>1.000000</td>\n",
       "      <td>-1.000000</td>\n",
       "      <td>0.000000</td>\n",
       "    </tr>\n",
       "    <tr>\n",
       "      <td>50%</td>\n",
       "      <td>9042.000000</td>\n",
       "      <td>39.000000</td>\n",
       "      <td>447.000000</td>\n",
       "      <td>16.000000</td>\n",
       "      <td>178.000000</td>\n",
       "      <td>2.000000</td>\n",
       "      <td>-1.000000</td>\n",
       "      <td>0.000000</td>\n",
       "    </tr>\n",
       "    <tr>\n",
       "      <td>75%</td>\n",
       "      <td>13562.500000</td>\n",
       "      <td>48.000000</td>\n",
       "      <td>1427.000000</td>\n",
       "      <td>21.000000</td>\n",
       "      <td>314.000000</td>\n",
       "      <td>3.000000</td>\n",
       "      <td>-1.000000</td>\n",
       "      <td>0.000000</td>\n",
       "    </tr>\n",
       "    <tr>\n",
       "      <td>max</td>\n",
       "      <td>18083.000000</td>\n",
       "      <td>95.000000</td>\n",
       "      <td>98417.000000</td>\n",
       "      <td>31.000000</td>\n",
       "      <td>3881.000000</td>\n",
       "      <td>50.000000</td>\n",
       "      <td>854.000000</td>\n",
       "      <td>58.000000</td>\n",
       "    </tr>\n",
       "  </tbody>\n",
       "</table>\n",
       "</div>"
      ],
      "text/plain": [
       "                 id           age       balance           day      duration  \\\n",
       "count  18083.000000  18083.000000  18083.000000  18083.000000  18083.000000   \n",
       "mean    9042.000000     40.914008   1371.980092     15.806725    254.340264   \n",
       "std     5220.256794     10.634331   3105.985293      8.299509    253.591981   \n",
       "min        1.000000     18.000000  -8019.000000      1.000000      0.000000   \n",
       "25%     4521.500000     33.000000     72.000000      8.000000    102.000000   \n",
       "50%     9042.000000     39.000000    447.000000     16.000000    178.000000   \n",
       "75%    13562.500000     48.000000   1427.000000     21.000000    314.000000   \n",
       "max    18083.000000     95.000000  98417.000000     31.000000   3881.000000   \n",
       "\n",
       "           campaign         pdays      previous  \n",
       "count  18083.000000  18083.000000  18083.000000  \n",
       "mean       2.781950     39.702428      0.581209  \n",
       "std        3.054651     99.747634      1.965265  \n",
       "min        1.000000     -1.000000      0.000000  \n",
       "25%        1.000000     -1.000000      0.000000  \n",
       "50%        2.000000     -1.000000      0.000000  \n",
       "75%        3.000000     -1.000000      0.000000  \n",
       "max       50.000000    854.000000     58.000000  "
      ]
     },
     "execution_count": 8,
     "metadata": {},
     "output_type": "execute_result"
    }
   ],
   "source": [
    "test.describe()"
   ]
  },
  {
   "cell_type": "markdown",
   "metadata": {},
   "source": [
    "## trainとtestに欠損がないか見てみましょう"
   ]
  },
  {
   "cell_type": "code",
   "execution_count": 10,
   "metadata": {},
   "outputs": [
    {
     "data": {
      "text/plain": [
       "id           0\n",
       "age          0\n",
       "job          0\n",
       "marital      0\n",
       "education    0\n",
       "default      0\n",
       "balance      0\n",
       "housing      0\n",
       "loan         0\n",
       "contact      0\n",
       "day          0\n",
       "month        0\n",
       "duration     0\n",
       "campaign     0\n",
       "pdays        0\n",
       "previous     0\n",
       "poutcome     0\n",
       "y            0\n",
       "dtype: int64"
      ]
     },
     "execution_count": 10,
     "metadata": {},
     "output_type": "execute_result"
    }
   ],
   "source": [
    "train.isnull().sum()"
   ]
  },
  {
   "cell_type": "code",
   "execution_count": 11,
   "metadata": {},
   "outputs": [
    {
     "data": {
      "text/plain": [
       "id           0\n",
       "age          0\n",
       "job          0\n",
       "marital      0\n",
       "education    0\n",
       "default      0\n",
       "balance      0\n",
       "housing      0\n",
       "loan         0\n",
       "contact      0\n",
       "day          0\n",
       "month        0\n",
       "duration     0\n",
       "campaign     0\n",
       "pdays        0\n",
       "previous     0\n",
       "poutcome     0\n",
       "dtype: int64"
      ]
     },
     "execution_count": 11,
     "metadata": {},
     "output_type": "execute_result"
    }
   ],
   "source": [
    "test.isnull().sum()"
   ]
  },
  {
   "cell_type": "markdown",
   "metadata": {},
   "source": [
    "## trainでyが1の人数はどれくらいか見てみましょう"
   ]
  },
  {
   "cell_type": "code",
   "execution_count": 13,
   "metadata": {},
   "outputs": [
    {
     "data": {
      "text/plain": [
       "0    23954\n",
       "1     3174\n",
       "Name: y, dtype: int64"
      ]
     },
     "execution_count": 13,
     "metadata": {},
     "output_type": "execute_result"
    }
   ],
   "source": [
    "train['y'].value_counts()"
   ]
  },
  {
   "cell_type": "markdown",
   "metadata": {},
   "source": [
    "## maritalとyのクロス集計をしてみましょう\n",
    "- pd.crosstab関数を使います\n",
    "- pd.crosstab(X[\"A\"], X[\"B\"])と書いた場合、Aが縦列、Bが横列となります\n",
    "- 更にオプションとしてmargins=Trueを書くと、総計値のカラムまで作成されるので便利です"
   ]
  },
  {
   "cell_type": "code",
   "execution_count": 15,
   "metadata": {},
   "outputs": [
    {
     "data": {
      "text/html": [
       "<div>\n",
       "<style scoped>\n",
       "    .dataframe tbody tr th:only-of-type {\n",
       "        vertical-align: middle;\n",
       "    }\n",
       "\n",
       "    .dataframe tbody tr th {\n",
       "        vertical-align: top;\n",
       "    }\n",
       "\n",
       "    .dataframe thead th {\n",
       "        text-align: right;\n",
       "    }\n",
       "</style>\n",
       "<table border=\"1\" class=\"dataframe\">\n",
       "  <thead>\n",
       "    <tr style=\"text-align: right;\">\n",
       "      <th>y</th>\n",
       "      <th>0</th>\n",
       "      <th>1</th>\n",
       "      <th>All</th>\n",
       "    </tr>\n",
       "    <tr>\n",
       "      <th>marital</th>\n",
       "      <th></th>\n",
       "      <th></th>\n",
       "      <th></th>\n",
       "    </tr>\n",
       "  </thead>\n",
       "  <tbody>\n",
       "    <tr>\n",
       "      <td>divorced</td>\n",
       "      <td>2691</td>\n",
       "      <td>364</td>\n",
       "      <td>3055</td>\n",
       "    </tr>\n",
       "    <tr>\n",
       "      <td>married</td>\n",
       "      <td>14744</td>\n",
       "      <td>1667</td>\n",
       "      <td>16411</td>\n",
       "    </tr>\n",
       "    <tr>\n",
       "      <td>single</td>\n",
       "      <td>6519</td>\n",
       "      <td>1143</td>\n",
       "      <td>7662</td>\n",
       "    </tr>\n",
       "    <tr>\n",
       "      <td>All</td>\n",
       "      <td>23954</td>\n",
       "      <td>3174</td>\n",
       "      <td>27128</td>\n",
       "    </tr>\n",
       "  </tbody>\n",
       "</table>\n",
       "</div>"
      ],
      "text/plain": [
       "y             0     1    All\n",
       "marital                     \n",
       "divorced   2691   364   3055\n",
       "married   14744  1667  16411\n",
       "single     6519  1143   7662\n",
       "All       23954  3174  27128"
      ]
     },
     "execution_count": 15,
     "metadata": {},
     "output_type": "execute_result"
    }
   ],
   "source": [
    "pd.crosstab(train['marital'],train['y'],margins=True)"
   ]
  },
  {
   "cell_type": "markdown",
   "metadata": {},
   "source": [
    "## ageをビニングしてみましょう\n",
    "- ageは数値データなので、クロス集計をする為にはビニングが必要です\n",
    "- ビニングとは数値データを例えば、グループ①（0より大きい、10以下）、グループ②（10より大きい、20以下）…のように集約することを言います\n",
    "- ビニングはpd.cut関数を使います\n",
    "- オプションには、①ビニングしたいデータ、②どう区切るのか？（例えば[0,10,20]）を書きます\n",
    "- まずtrain[\"age\"]の基本統計量を確認しましょう\n",
    "- その後、ビニングした結果を変数age_biningに代入しましょう"
   ]
  },
  {
   "cell_type": "code",
   "execution_count": 16,
   "metadata": {},
   "outputs": [
    {
     "data": {
      "text/plain": [
       "count    27128.000000\n",
       "mean        40.951010\n",
       "std         10.608542\n",
       "min         18.000000\n",
       "25%         33.000000\n",
       "50%         39.000000\n",
       "75%         48.000000\n",
       "max         95.000000\n",
       "Name: age, dtype: float64"
      ]
     },
     "execution_count": 16,
     "metadata": {},
     "output_type": "execute_result"
    }
   ],
   "source": [
    "train['age'].describe()"
   ]
  },
  {
   "cell_type": "code",
   "execution_count": 17,
   "metadata": {},
   "outputs": [],
   "source": [
    "age_bining = pd.cut(train['age'],[0,20,30,40,50,60,100])"
   ]
  },
  {
   "cell_type": "code",
   "execution_count": 19,
   "metadata": {},
   "outputs": [
    {
     "data": {
      "text/plain": [
       "0         (30, 40]\n",
       "1         (50, 60]\n",
       "2         (30, 40]\n",
       "3        (60, 100]\n",
       "4         (30, 40]\n",
       "           ...    \n",
       "27123     (40, 50]\n",
       "27124     (30, 40]\n",
       "27125     (30, 40]\n",
       "27126     (30, 40]\n",
       "27127     (20, 30]\n",
       "Name: age, Length: 27128, dtype: category\n",
       "Categories (6, interval[int64]): [(0, 20] < (20, 30] < (30, 40] < (40, 50] < (50, 60] < (60, 100]]"
      ]
     },
     "execution_count": 19,
     "metadata": {},
     "output_type": "execute_result"
    }
   ],
   "source": [
    "age_bining"
   ]
  },
  {
   "cell_type": "markdown",
   "metadata": {},
   "source": [
    "## age_biningとyを使ってクロス集計をしてみましょう"
   ]
  },
  {
   "cell_type": "code",
   "execution_count": 21,
   "metadata": {},
   "outputs": [
    {
     "data": {
      "text/html": [
       "<div>\n",
       "<style scoped>\n",
       "    .dataframe tbody tr th:only-of-type {\n",
       "        vertical-align: middle;\n",
       "    }\n",
       "\n",
       "    .dataframe tbody tr th {\n",
       "        vertical-align: top;\n",
       "    }\n",
       "\n",
       "    .dataframe thead th {\n",
       "        text-align: right;\n",
       "    }\n",
       "</style>\n",
       "<table border=\"1\" class=\"dataframe\">\n",
       "  <thead>\n",
       "    <tr style=\"text-align: right;\">\n",
       "      <th>y</th>\n",
       "      <th>0</th>\n",
       "      <th>1</th>\n",
       "      <th>All</th>\n",
       "    </tr>\n",
       "    <tr>\n",
       "      <th>age</th>\n",
       "      <th></th>\n",
       "      <th></th>\n",
       "      <th></th>\n",
       "    </tr>\n",
       "  </thead>\n",
       "  <tbody>\n",
       "    <tr>\n",
       "      <td>(0, 20]</td>\n",
       "      <td>39</td>\n",
       "      <td>21</td>\n",
       "      <td>60</td>\n",
       "    </tr>\n",
       "    <tr>\n",
       "      <td>(20, 30]</td>\n",
       "      <td>3486</td>\n",
       "      <td>655</td>\n",
       "      <td>4141</td>\n",
       "    </tr>\n",
       "    <tr>\n",
       "      <td>(30, 40]</td>\n",
       "      <td>9488</td>\n",
       "      <td>1111</td>\n",
       "      <td>10599</td>\n",
       "    </tr>\n",
       "    <tr>\n",
       "      <td>(40, 50]</td>\n",
       "      <td>6117</td>\n",
       "      <td>602</td>\n",
       "      <td>6719</td>\n",
       "    </tr>\n",
       "    <tr>\n",
       "      <td>(50, 60]</td>\n",
       "      <td>4416</td>\n",
       "      <td>488</td>\n",
       "      <td>4904</td>\n",
       "    </tr>\n",
       "    <tr>\n",
       "      <td>(60, 100]</td>\n",
       "      <td>408</td>\n",
       "      <td>297</td>\n",
       "      <td>705</td>\n",
       "    </tr>\n",
       "    <tr>\n",
       "      <td>All</td>\n",
       "      <td>23954</td>\n",
       "      <td>3174</td>\n",
       "      <td>27128</td>\n",
       "    </tr>\n",
       "  </tbody>\n",
       "</table>\n",
       "</div>"
      ],
      "text/plain": [
       "y              0     1    All\n",
       "age                          \n",
       "(0, 20]       39    21     60\n",
       "(20, 30]    3486   655   4141\n",
       "(30, 40]    9488  1111  10599\n",
       "(40, 50]    6117   602   6719\n",
       "(50, 60]    4416   488   4904\n",
       "(60, 100]    408   297    705\n",
       "All        23954  3174  27128"
      ]
     },
     "execution_count": 21,
     "metadata": {},
     "output_type": "execute_result"
    }
   ],
   "source": [
    "pd.crosstab(age_bining,train['y'],margins=True)"
   ]
  },
  {
   "cell_type": "markdown",
   "metadata": {},
   "source": [
    "# 実習"
   ]
  },
  {
   "cell_type": "markdown",
   "metadata": {},
   "source": [
    "1.testの行数とカラム数を確かめてみよう"
   ]
  },
  {
   "cell_type": "code",
   "execution_count": 22,
   "metadata": {},
   "outputs": [
    {
     "data": {
      "text/plain": [
       "(18083, 17)"
      ]
     },
     "execution_count": 22,
     "metadata": {},
     "output_type": "execute_result"
    }
   ],
   "source": [
    "test.shape"
   ]
  },
  {
   "cell_type": "markdown",
   "metadata": {},
   "source": [
    "2.trainのデータには数値データが何カラムあり、質的データが何カラムあるか調べてみよう"
   ]
  },
  {
   "cell_type": "code",
   "execution_count": 29,
   "metadata": {},
   "outputs": [
    {
     "name": "stdout",
     "output_type": "stream",
     "text": [
      "<class 'pandas.core.frame.DataFrame'>\n",
      "RangeIndex: 27128 entries, 0 to 27127\n",
      "Data columns (total 18 columns):\n",
      "id           27128 non-null int64\n",
      "age          27128 non-null int64\n",
      "job          27128 non-null object\n",
      "marital      27128 non-null object\n",
      "education    27128 non-null object\n",
      "default      27128 non-null object\n",
      "balance      27128 non-null int64\n",
      "housing      27128 non-null object\n",
      "loan         27128 non-null object\n",
      "contact      27128 non-null object\n",
      "day          27128 non-null int64\n",
      "month        27128 non-null object\n",
      "duration     27128 non-null int64\n",
      "campaign     27128 non-null int64\n",
      "pdays        27128 non-null int64\n",
      "previous     27128 non-null int64\n",
      "poutcome     27128 non-null object\n",
      "y            27128 non-null int64\n",
      "dtypes: int64(9), object(9)\n",
      "memory usage: 3.7+ MB\n"
     ]
    }
   ],
   "source": [
    "train.info()"
   ]
  },
  {
   "cell_type": "markdown",
   "metadata": {},
   "source": [
    "\n",
    "3.poutcomeとyのクロス集計をし、変数poutに代入しよう\n",
    "- margins=Trueはつけましょう"
   ]
  },
  {
   "cell_type": "code",
   "execution_count": 31,
   "metadata": {},
   "outputs": [],
   "source": [
    "pout = pd.crosstab(train['poutcome'],train['y'],margins=True)"
   ]
  },
  {
   "cell_type": "code",
   "execution_count": 32,
   "metadata": {},
   "outputs": [
    {
     "data": {
      "text/html": [
       "<div>\n",
       "<style scoped>\n",
       "    .dataframe tbody tr th:only-of-type {\n",
       "        vertical-align: middle;\n",
       "    }\n",
       "\n",
       "    .dataframe tbody tr th {\n",
       "        vertical-align: top;\n",
       "    }\n",
       "\n",
       "    .dataframe thead th {\n",
       "        text-align: right;\n",
       "    }\n",
       "</style>\n",
       "<table border=\"1\" class=\"dataframe\">\n",
       "  <thead>\n",
       "    <tr style=\"text-align: right;\">\n",
       "      <th>y</th>\n",
       "      <th>0</th>\n",
       "      <th>1</th>\n",
       "      <th>All</th>\n",
       "    </tr>\n",
       "    <tr>\n",
       "      <th>poutcome</th>\n",
       "      <th></th>\n",
       "      <th></th>\n",
       "      <th></th>\n",
       "    </tr>\n",
       "  </thead>\n",
       "  <tbody>\n",
       "    <tr>\n",
       "      <td>failure</td>\n",
       "      <td>2578</td>\n",
       "      <td>391</td>\n",
       "      <td>2969</td>\n",
       "    </tr>\n",
       "    <tr>\n",
       "      <td>other</td>\n",
       "      <td>950</td>\n",
       "      <td>173</td>\n",
       "      <td>1123</td>\n",
       "    </tr>\n",
       "    <tr>\n",
       "      <td>success</td>\n",
       "      <td>312</td>\n",
       "      <td>574</td>\n",
       "      <td>886</td>\n",
       "    </tr>\n",
       "    <tr>\n",
       "      <td>unknown</td>\n",
       "      <td>20114</td>\n",
       "      <td>2036</td>\n",
       "      <td>22150</td>\n",
       "    </tr>\n",
       "    <tr>\n",
       "      <td>All</td>\n",
       "      <td>23954</td>\n",
       "      <td>3174</td>\n",
       "      <td>27128</td>\n",
       "    </tr>\n",
       "  </tbody>\n",
       "</table>\n",
       "</div>"
      ],
      "text/plain": [
       "y             0     1    All\n",
       "poutcome                    \n",
       "failure    2578   391   2969\n",
       "other       950   173   1123\n",
       "success     312   574    886\n",
       "unknown   20114  2036  22150\n",
       "All       23954  3174  27128"
      ]
     },
     "execution_count": 32,
     "metadata": {},
     "output_type": "execute_result"
    }
   ],
   "source": [
    "pout"
   ]
  },
  {
   "cell_type": "markdown",
   "metadata": {},
   "source": [
    "4.trainのpoutcomeの各値毎に1となる割合を計算し、poutに新たなカラムrateを追加しよう\n",
    "- poutcomeの各値の合計値に対して1となる割を求めることになるので、pout[1] / pout[\"All\"] で求めることができます"
   ]
  },
  {
   "cell_type": "code",
   "execution_count": 34,
   "metadata": {},
   "outputs": [],
   "source": [
    "pout['rate'] = pout[1] / pout['All']"
   ]
  },
  {
   "cell_type": "code",
   "execution_count": 35,
   "metadata": {},
   "outputs": [
    {
     "data": {
      "text/html": [
       "<div>\n",
       "<style scoped>\n",
       "    .dataframe tbody tr th:only-of-type {\n",
       "        vertical-align: middle;\n",
       "    }\n",
       "\n",
       "    .dataframe tbody tr th {\n",
       "        vertical-align: top;\n",
       "    }\n",
       "\n",
       "    .dataframe thead th {\n",
       "        text-align: right;\n",
       "    }\n",
       "</style>\n",
       "<table border=\"1\" class=\"dataframe\">\n",
       "  <thead>\n",
       "    <tr style=\"text-align: right;\">\n",
       "      <th>y</th>\n",
       "      <th>0</th>\n",
       "      <th>1</th>\n",
       "      <th>All</th>\n",
       "      <th>rate</th>\n",
       "    </tr>\n",
       "    <tr>\n",
       "      <th>poutcome</th>\n",
       "      <th></th>\n",
       "      <th></th>\n",
       "      <th></th>\n",
       "      <th></th>\n",
       "    </tr>\n",
       "  </thead>\n",
       "  <tbody>\n",
       "    <tr>\n",
       "      <td>failure</td>\n",
       "      <td>2578</td>\n",
       "      <td>391</td>\n",
       "      <td>2969</td>\n",
       "      <td>0.131694</td>\n",
       "    </tr>\n",
       "    <tr>\n",
       "      <td>other</td>\n",
       "      <td>950</td>\n",
       "      <td>173</td>\n",
       "      <td>1123</td>\n",
       "      <td>0.154052</td>\n",
       "    </tr>\n",
       "    <tr>\n",
       "      <td>success</td>\n",
       "      <td>312</td>\n",
       "      <td>574</td>\n",
       "      <td>886</td>\n",
       "      <td>0.647856</td>\n",
       "    </tr>\n",
       "    <tr>\n",
       "      <td>unknown</td>\n",
       "      <td>20114</td>\n",
       "      <td>2036</td>\n",
       "      <td>22150</td>\n",
       "      <td>0.091919</td>\n",
       "    </tr>\n",
       "    <tr>\n",
       "      <td>All</td>\n",
       "      <td>23954</td>\n",
       "      <td>3174</td>\n",
       "      <td>27128</td>\n",
       "      <td>0.117001</td>\n",
       "    </tr>\n",
       "  </tbody>\n",
       "</table>\n",
       "</div>"
      ],
      "text/plain": [
       "y             0     1    All      rate\n",
       "poutcome                              \n",
       "failure    2578   391   2969  0.131694\n",
       "other       950   173   1123  0.154052\n",
       "success     312   574    886  0.647856\n",
       "unknown   20114  2036  22150  0.091919\n",
       "All       23954  3174  27128  0.117001"
      ]
     },
     "execution_count": 35,
     "metadata": {},
     "output_type": "execute_result"
    }
   ],
   "source": [
    "pout"
   ]
  },
  {
   "cell_type": "markdown",
   "metadata": {},
   "source": [
    "5.trainのdurationをビニングして、変数duration_biningを作りましょう\n",
    "- train[\"duration\"]の基礎統計量を確認しておきましょう\n",
    "- 区切り方は[-1,100,200,300,400,500,600,700,800,900,1000,5000]としましょう"
   ]
  },
  {
   "cell_type": "code",
   "execution_count": 36,
   "metadata": {},
   "outputs": [
    {
     "data": {
      "text/plain": [
       "count    27128.000000\n",
       "mean       260.711295\n",
       "std        260.091727\n",
       "min          0.000000\n",
       "25%        104.000000\n",
       "50%        182.000000\n",
       "75%        323.000000\n",
       "max       4918.000000\n",
       "Name: duration, dtype: float64"
      ]
     },
     "execution_count": 36,
     "metadata": {},
     "output_type": "execute_result"
    }
   ],
   "source": [
    "train['duration'].describe()"
   ]
  },
  {
   "cell_type": "code",
   "execution_count": 37,
   "metadata": {},
   "outputs": [],
   "source": [
    "duration_bining = pd.cut(train['duration'],[-1,100,200,300,400,500,600,700,800,900,1000,5000])"
   ]
  },
  {
   "cell_type": "markdown",
   "metadata": {},
   "source": [
    "6.duration_biningとyを使って、クロス集計をし、変数duraに代入しよう\n",
    "- margins=Trueはつけましょう"
   ]
  },
  {
   "cell_type": "code",
   "execution_count": 38,
   "metadata": {},
   "outputs": [
    {
     "data": {
      "text/html": [
       "<div>\n",
       "<style scoped>\n",
       "    .dataframe tbody tr th:only-of-type {\n",
       "        vertical-align: middle;\n",
       "    }\n",
       "\n",
       "    .dataframe tbody tr th {\n",
       "        vertical-align: top;\n",
       "    }\n",
       "\n",
       "    .dataframe thead th {\n",
       "        text-align: right;\n",
       "    }\n",
       "</style>\n",
       "<table border=\"1\" class=\"dataframe\">\n",
       "  <thead>\n",
       "    <tr style=\"text-align: right;\">\n",
       "      <th>y</th>\n",
       "      <th>0</th>\n",
       "      <th>1</th>\n",
       "      <th>All</th>\n",
       "    </tr>\n",
       "    <tr>\n",
       "      <th>duration</th>\n",
       "      <th></th>\n",
       "      <th></th>\n",
       "      <th></th>\n",
       "    </tr>\n",
       "  </thead>\n",
       "  <tbody>\n",
       "    <tr>\n",
       "      <td>(-1, 100]</td>\n",
       "      <td>6379</td>\n",
       "      <td>60</td>\n",
       "      <td>6439</td>\n",
       "    </tr>\n",
       "    <tr>\n",
       "      <td>(100, 200]</td>\n",
       "      <td>7909</td>\n",
       "      <td>450</td>\n",
       "      <td>8359</td>\n",
       "    </tr>\n",
       "    <tr>\n",
       "      <td>(200, 300]</td>\n",
       "      <td>4286</td>\n",
       "      <td>557</td>\n",
       "      <td>4843</td>\n",
       "    </tr>\n",
       "    <tr>\n",
       "      <td>(300, 400]</td>\n",
       "      <td>2258</td>\n",
       "      <td>408</td>\n",
       "      <td>2666</td>\n",
       "    </tr>\n",
       "    <tr>\n",
       "      <td>(400, 500]</td>\n",
       "      <td>1231</td>\n",
       "      <td>308</td>\n",
       "      <td>1539</td>\n",
       "    </tr>\n",
       "    <tr>\n",
       "      <td>(500, 600]</td>\n",
       "      <td>699</td>\n",
       "      <td>270</td>\n",
       "      <td>969</td>\n",
       "    </tr>\n",
       "    <tr>\n",
       "      <td>(600, 700]</td>\n",
       "      <td>441</td>\n",
       "      <td>259</td>\n",
       "      <td>700</td>\n",
       "    </tr>\n",
       "    <tr>\n",
       "      <td>(700, 800]</td>\n",
       "      <td>245</td>\n",
       "      <td>189</td>\n",
       "      <td>434</td>\n",
       "    </tr>\n",
       "    <tr>\n",
       "      <td>(800, 900]</td>\n",
       "      <td>149</td>\n",
       "      <td>153</td>\n",
       "      <td>302</td>\n",
       "    </tr>\n",
       "    <tr>\n",
       "      <td>(900, 1000]</td>\n",
       "      <td>95</td>\n",
       "      <td>123</td>\n",
       "      <td>218</td>\n",
       "    </tr>\n",
       "    <tr>\n",
       "      <td>(1000, 5000]</td>\n",
       "      <td>262</td>\n",
       "      <td>397</td>\n",
       "      <td>659</td>\n",
       "    </tr>\n",
       "    <tr>\n",
       "      <td>All</td>\n",
       "      <td>23954</td>\n",
       "      <td>3174</td>\n",
       "      <td>27128</td>\n",
       "    </tr>\n",
       "  </tbody>\n",
       "</table>\n",
       "</div>"
      ],
      "text/plain": [
       "y                 0     1    All\n",
       "duration                        \n",
       "(-1, 100]      6379    60   6439\n",
       "(100, 200]     7909   450   8359\n",
       "(200, 300]     4286   557   4843\n",
       "(300, 400]     2258   408   2666\n",
       "(400, 500]     1231   308   1539\n",
       "(500, 600]      699   270    969\n",
       "(600, 700]      441   259    700\n",
       "(700, 800]      245   189    434\n",
       "(800, 900]      149   153    302\n",
       "(900, 1000]      95   123    218\n",
       "(1000, 5000]    262   397    659\n",
       "All           23954  3174  27128"
      ]
     },
     "execution_count": 38,
     "metadata": {},
     "output_type": "execute_result"
    }
   ],
   "source": [
    "dura = pd.crosstab(duration_bining,train['y'],margins=True)\n",
    "dura"
   ]
  },
  {
   "cell_type": "markdown",
   "metadata": {},
   "source": [
    "7.duraの各値毎に1となる割合を計算し、duraに新たなカラムrateを追加しよう"
   ]
  },
  {
   "cell_type": "code",
   "execution_count": 39,
   "metadata": {},
   "outputs": [
    {
     "data": {
      "text/html": [
       "<div>\n",
       "<style scoped>\n",
       "    .dataframe tbody tr th:only-of-type {\n",
       "        vertical-align: middle;\n",
       "    }\n",
       "\n",
       "    .dataframe tbody tr th {\n",
       "        vertical-align: top;\n",
       "    }\n",
       "\n",
       "    .dataframe thead th {\n",
       "        text-align: right;\n",
       "    }\n",
       "</style>\n",
       "<table border=\"1\" class=\"dataframe\">\n",
       "  <thead>\n",
       "    <tr style=\"text-align: right;\">\n",
       "      <th>y</th>\n",
       "      <th>0</th>\n",
       "      <th>1</th>\n",
       "      <th>All</th>\n",
       "      <th>rate</th>\n",
       "    </tr>\n",
       "    <tr>\n",
       "      <th>duration</th>\n",
       "      <th></th>\n",
       "      <th></th>\n",
       "      <th></th>\n",
       "      <th></th>\n",
       "    </tr>\n",
       "  </thead>\n",
       "  <tbody>\n",
       "    <tr>\n",
       "      <td>(-1, 100]</td>\n",
       "      <td>6379</td>\n",
       "      <td>60</td>\n",
       "      <td>6439</td>\n",
       "      <td>0.009318</td>\n",
       "    </tr>\n",
       "    <tr>\n",
       "      <td>(100, 200]</td>\n",
       "      <td>7909</td>\n",
       "      <td>450</td>\n",
       "      <td>8359</td>\n",
       "      <td>0.053834</td>\n",
       "    </tr>\n",
       "    <tr>\n",
       "      <td>(200, 300]</td>\n",
       "      <td>4286</td>\n",
       "      <td>557</td>\n",
       "      <td>4843</td>\n",
       "      <td>0.115011</td>\n",
       "    </tr>\n",
       "    <tr>\n",
       "      <td>(300, 400]</td>\n",
       "      <td>2258</td>\n",
       "      <td>408</td>\n",
       "      <td>2666</td>\n",
       "      <td>0.153038</td>\n",
       "    </tr>\n",
       "    <tr>\n",
       "      <td>(400, 500]</td>\n",
       "      <td>1231</td>\n",
       "      <td>308</td>\n",
       "      <td>1539</td>\n",
       "      <td>0.200130</td>\n",
       "    </tr>\n",
       "    <tr>\n",
       "      <td>(500, 600]</td>\n",
       "      <td>699</td>\n",
       "      <td>270</td>\n",
       "      <td>969</td>\n",
       "      <td>0.278638</td>\n",
       "    </tr>\n",
       "    <tr>\n",
       "      <td>(600, 700]</td>\n",
       "      <td>441</td>\n",
       "      <td>259</td>\n",
       "      <td>700</td>\n",
       "      <td>0.370000</td>\n",
       "    </tr>\n",
       "    <tr>\n",
       "      <td>(700, 800]</td>\n",
       "      <td>245</td>\n",
       "      <td>189</td>\n",
       "      <td>434</td>\n",
       "      <td>0.435484</td>\n",
       "    </tr>\n",
       "    <tr>\n",
       "      <td>(800, 900]</td>\n",
       "      <td>149</td>\n",
       "      <td>153</td>\n",
       "      <td>302</td>\n",
       "      <td>0.506623</td>\n",
       "    </tr>\n",
       "    <tr>\n",
       "      <td>(900, 1000]</td>\n",
       "      <td>95</td>\n",
       "      <td>123</td>\n",
       "      <td>218</td>\n",
       "      <td>0.564220</td>\n",
       "    </tr>\n",
       "    <tr>\n",
       "      <td>(1000, 5000]</td>\n",
       "      <td>262</td>\n",
       "      <td>397</td>\n",
       "      <td>659</td>\n",
       "      <td>0.602428</td>\n",
       "    </tr>\n",
       "    <tr>\n",
       "      <td>All</td>\n",
       "      <td>23954</td>\n",
       "      <td>3174</td>\n",
       "      <td>27128</td>\n",
       "      <td>0.117001</td>\n",
       "    </tr>\n",
       "  </tbody>\n",
       "</table>\n",
       "</div>"
      ],
      "text/plain": [
       "y                 0     1    All      rate\n",
       "duration                                  \n",
       "(-1, 100]      6379    60   6439  0.009318\n",
       "(100, 200]     7909   450   8359  0.053834\n",
       "(200, 300]     4286   557   4843  0.115011\n",
       "(300, 400]     2258   408   2666  0.153038\n",
       "(400, 500]     1231   308   1539  0.200130\n",
       "(500, 600]      699   270    969  0.278638\n",
       "(600, 700]      441   259    700  0.370000\n",
       "(700, 800]      245   189    434  0.435484\n",
       "(800, 900]      149   153    302  0.506623\n",
       "(900, 1000]      95   123    218  0.564220\n",
       "(1000, 5000]    262   397    659  0.602428\n",
       "All           23954  3174  27128  0.117001"
      ]
     },
     "execution_count": 39,
     "metadata": {},
     "output_type": "execute_result"
    }
   ],
   "source": [
    "dura['rate']= dura[1] / dura['All']\n",
    "dura"
   ]
  },
  {
   "cell_type": "code",
   "execution_count": null,
   "metadata": {},
   "outputs": [],
   "source": []
  }
 ],
 "metadata": {
  "kernelspec": {
   "display_name": "Python 3",
   "language": "python",
   "name": "python3"
  },
  "language_info": {
   "codemirror_mode": {
    "name": "ipython",
    "version": 3
   },
   "file_extension": ".py",
   "mimetype": "text/x-python",
   "name": "python",
   "nbconvert_exporter": "python",
   "pygments_lexer": "ipython3",
   "version": "3.7.4"
  }
 },
 "nbformat": 4,
 "nbformat_minor": 2
}
